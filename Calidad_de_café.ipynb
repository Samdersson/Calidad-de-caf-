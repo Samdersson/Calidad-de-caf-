{
  "nbformat": 4,
  "nbformat_minor": 0,
  "metadata": {
    "colab": {
      "provenance": [],
      "gpuType": "V28",
      "authorship_tag": "ABX9TyONtXRKUWoB7Yck0u9sHzXP",
      "include_colab_link": true
    },
    "kernelspec": {
      "name": "python3",
      "display_name": "Python 3"
    },
    "language_info": {
      "name": "python"
    },
    "accelerator": "TPU"
  },
  "cells": [
    {
      "cell_type": "markdown",
      "metadata": {
        "id": "view-in-github",
        "colab_type": "text"
      },
      "source": [
        "<a href=\"https://colab.research.google.com/github/Samdersson/Calidad-de-caf-/blob/main/Calidad_de_caf%C3%A9.ipynb\" target=\"_parent\"><img src=\"https://colab.research.google.com/assets/colab-badge.svg\" alt=\"Open In Colab\"/></a>"
      ]
    },
    {
      "cell_type": "code",
      "source": [],
      "metadata": {
        "id": "7daYVm7FNIQi"
      },
      "execution_count": null,
      "outputs": []
    },
    {
      "cell_type": "code",
      "source": [
        "\n",
        "import pandas as pd\n",
        "from sklearn.model_selection import train_test_split\n",
        "from sklearn.preprocessing import StandardScaler, LabelEncoder\n",
        "from sklearn.metrics import classification_report\n",
        "import tensorflow as tf\n",
        "\n",
        "# Cargar el dataset\n",
        "df = pd.read_csv('/content/arabica_data_cleaned.csv')\n",
        "selected_columns = ['Aroma', 'Flavor', 'Aftertaste', 'Acidity', 'Body', 'Balance', 'Uniformity', 'Sweetness', 'Moisture']\n",
        "df = df.dropna()  # Eliminar filas con valores nulos\n",
        "\n",
        "# Preparar datos\n",
        "X = df[['Acidity', 'Aroma', 'Body']].values\n",
        "y = df['Aroma'].values\n",
        "\n",
        "# Codificar las etiquetas\n",
        "encoder = LabelEncoder()\n",
        "y_encoded = encoder.fit_transform(y)\n",
        "\n",
        "# Escalar las características\n",
        "scaler = StandardScaler()\n",
        "X_scaled = scaler.fit_transform(X)\n",
        "\n",
        "# Dividir en entrenamiento y prueba\n",
        "X_train, X_test, y_train, y_test = train_test_split(X_scaled, y_encoded, test_size=0.3, random_state=42)\n",
        "\n",
        "# Crear modelo\n",
        "model = tf.keras.Sequential([\n",
        "    tf.keras.layers.Dense(16, activation='relu', input_shape=(X_train.shape[1],)),\n",
        "    tf.keras.layers.Dense(8, activation='relu'),\n",
        "    tf.keras.layers.Dense(len(set(y_encoded)), activation='softmax')\n",
        "])\n"
      ],
      "metadata": {
        "id": "_jX6WsLVM03L"
      },
      "execution_count": 35,
      "outputs": []
    },
    {
      "cell_type": "code",
      "source": [
        "# Compilar y entrenar\n",
        "model.compile(optimizer='adam', loss='sparse_categorical_crossentropy', metrics=['accuracy'])\n",
        "model.fit(X_train, y_train, epochs=30, batch_size=16, validation_split=0.2, verbose=1)\n",
        "\n"
      ],
      "metadata": {
        "colab": {
          "base_uri": "https://localhost:8080/"
        },
        "id": "oFtj5SS-M1qB",
        "outputId": "ca7fbe47-eded-4264-9bab-1d0198f9bc56"
      },
      "execution_count": 37,
      "outputs": [
        {
          "output_type": "stream",
          "name": "stdout",
          "text": [
            "Epoch 1/30\n",
            "5/5 [==============================] - 1s 44ms/step - loss: 2.1135 - accuracy: 0.3889 - val_loss: 2.3501 - val_accuracy: 0.2105\n",
            "Epoch 2/30\n",
            "5/5 [==============================] - 0s 11ms/step - loss: 2.0944 - accuracy: 0.4028 - val_loss: 2.3468 - val_accuracy: 0.2105\n",
            "Epoch 3/30\n",
            "5/5 [==============================] - 0s 11ms/step - loss: 2.0766 - accuracy: 0.4028 - val_loss: 2.3456 - val_accuracy: 0.2105\n",
            "Epoch 4/30\n",
            "5/5 [==============================] - 0s 11ms/step - loss: 2.0603 - accuracy: 0.4306 - val_loss: 2.3446 - val_accuracy: 0.2105\n",
            "Epoch 5/30\n",
            "5/5 [==============================] - 0s 12ms/step - loss: 2.0442 - accuracy: 0.4583 - val_loss: 2.3448 - val_accuracy: 0.2105\n",
            "Epoch 6/30\n",
            "5/5 [==============================] - 0s 11ms/step - loss: 2.0274 - accuracy: 0.4444 - val_loss: 2.3442 - val_accuracy: 0.2105\n",
            "Epoch 7/30\n",
            "5/5 [==============================] - 0s 11ms/step - loss: 2.0103 - accuracy: 0.4583 - val_loss: 2.3436 - val_accuracy: 0.2105\n",
            "Epoch 8/30\n",
            "5/5 [==============================] - 0s 11ms/step - loss: 1.9944 - accuracy: 0.4583 - val_loss: 2.3430 - val_accuracy: 0.2105\n",
            "Epoch 9/30\n",
            "5/5 [==============================] - 0s 11ms/step - loss: 1.9777 - accuracy: 0.4444 - val_loss: 2.3440 - val_accuracy: 0.2105\n",
            "Epoch 10/30\n",
            "5/5 [==============================] - 0s 11ms/step - loss: 1.9617 - accuracy: 0.4444 - val_loss: 2.3459 - val_accuracy: 0.2105\n",
            "Epoch 11/30\n",
            "5/5 [==============================] - 0s 11ms/step - loss: 1.9457 - accuracy: 0.4583 - val_loss: 2.3470 - val_accuracy: 0.2105\n",
            "Epoch 12/30\n",
            "5/5 [==============================] - 0s 11ms/step - loss: 1.9300 - accuracy: 0.4583 - val_loss: 2.3487 - val_accuracy: 0.2105\n",
            "Epoch 13/30\n",
            "5/5 [==============================] - 0s 12ms/step - loss: 1.9143 - accuracy: 0.4583 - val_loss: 2.3501 - val_accuracy: 0.2105\n",
            "Epoch 14/30\n",
            "5/5 [==============================] - 0s 12ms/step - loss: 1.8982 - accuracy: 0.4583 - val_loss: 2.3523 - val_accuracy: 0.2105\n",
            "Epoch 15/30\n",
            "5/5 [==============================] - 0s 12ms/step - loss: 1.8838 - accuracy: 0.4583 - val_loss: 2.3538 - val_accuracy: 0.2105\n",
            "Epoch 16/30\n",
            "5/5 [==============================] - 0s 19ms/step - loss: 1.8685 - accuracy: 0.4722 - val_loss: 2.3561 - val_accuracy: 0.2105\n",
            "Epoch 17/30\n",
            "5/5 [==============================] - 0s 12ms/step - loss: 1.8523 - accuracy: 0.4722 - val_loss: 2.3559 - val_accuracy: 0.2105\n",
            "Epoch 18/30\n",
            "5/5 [==============================] - 0s 12ms/step - loss: 1.8382 - accuracy: 0.4722 - val_loss: 2.3557 - val_accuracy: 0.2105\n",
            "Epoch 19/30\n",
            "5/5 [==============================] - 0s 12ms/step - loss: 1.8234 - accuracy: 0.4722 - val_loss: 2.3571 - val_accuracy: 0.2105\n",
            "Epoch 20/30\n",
            "5/5 [==============================] - 0s 11ms/step - loss: 1.8086 - accuracy: 0.4722 - val_loss: 2.3588 - val_accuracy: 0.2105\n",
            "Epoch 21/30\n",
            "5/5 [==============================] - 0s 11ms/step - loss: 1.7938 - accuracy: 0.4722 - val_loss: 2.3592 - val_accuracy: 0.2105\n",
            "Epoch 22/30\n",
            "5/5 [==============================] - 0s 11ms/step - loss: 1.7797 - accuracy: 0.4722 - val_loss: 2.3591 - val_accuracy: 0.2105\n",
            "Epoch 23/30\n",
            "5/5 [==============================] - 0s 11ms/step - loss: 1.7647 - accuracy: 0.4722 - val_loss: 2.3584 - val_accuracy: 0.2105\n",
            "Epoch 24/30\n",
            "5/5 [==============================] - 0s 11ms/step - loss: 1.7500 - accuracy: 0.4722 - val_loss: 2.3568 - val_accuracy: 0.2105\n",
            "Epoch 25/30\n",
            "5/5 [==============================] - 0s 12ms/step - loss: 1.7348 - accuracy: 0.4861 - val_loss: 2.3579 - val_accuracy: 0.2105\n",
            "Epoch 26/30\n",
            "5/5 [==============================] - 0s 11ms/step - loss: 1.7200 - accuracy: 0.5000 - val_loss: 2.3594 - val_accuracy: 0.2105\n",
            "Epoch 27/30\n",
            "5/5 [==============================] - 0s 11ms/step - loss: 1.7052 - accuracy: 0.5000 - val_loss: 2.3596 - val_accuracy: 0.2105\n",
            "Epoch 28/30\n",
            "5/5 [==============================] - 0s 12ms/step - loss: 1.6910 - accuracy: 0.5000 - val_loss: 2.3585 - val_accuracy: 0.2632\n",
            "Epoch 29/30\n",
            "5/5 [==============================] - 0s 11ms/step - loss: 1.6760 - accuracy: 0.5278 - val_loss: 2.3596 - val_accuracy: 0.2632\n",
            "Epoch 30/30\n",
            "5/5 [==============================] - 0s 11ms/step - loss: 1.6622 - accuracy: 0.5278 - val_loss: 2.3616 - val_accuracy: 0.2632\n"
          ]
        },
        {
          "output_type": "execute_result",
          "data": {
            "text/plain": [
              "<keras.src.callbacks.History at 0x7f8d10b9e200>"
            ]
          },
          "metadata": {},
          "execution_count": 37
        }
      ]
    },
    {
      "cell_type": "code",
      "source": [
        "y_pred = model.predict(X_test).argmax(axis=1)\n",
        "print(\"\\nReporte de Clasificación:\")"
      ],
      "metadata": {
        "colab": {
          "base_uri": "https://localhost:8080/"
        },
        "id": "2Wrxp80JQdz-",
        "outputId": "2bcd85ef-1236-4aa4-dca2-cce6835632e5"
      },
      "execution_count": 42,
      "outputs": [
        {
          "output_type": "stream",
          "name": "stdout",
          "text": [
            "2/2 [==============================] - 0s 3ms/step\n",
            "\n",
            "Reporte de Clasificación:\n"
          ]
        }
      ]
    },
    {
      "cell_type": "code",
      "source": [],
      "metadata": {
        "id": "KrhlJ9oZM8Oa"
      },
      "execution_count": null,
      "outputs": []
    },
    {
      "cell_type": "code",
      "source": [],
      "metadata": {
        "id": "BoEv9NyjRcdn"
      },
      "execution_count": null,
      "outputs": []
    },
    {
      "source": [
        "# Dataset Arabica\n",
        "df = pd.read_csv('coffee_data/arabica_data_cleaned.csv')\n",
        "# Check the available columns in the DataFrame\n",
        "print(df.columns)\n",
        "# Replace 'Total Cup Points' with the actual column name if it's different\n",
        "df = df[['Acidity', 'Aroma', 'Body', 'Flavor', 'Total.Cup.Points']]  # Seleccionar columnas útiles\n",
        "df = df.dropna()\n",
        "\n",
        "# Preparar datos\n",
        "X = df[['Acidity', 'Aroma', 'Body', 'Flavor']].values\n",
        "y = df['Total.Cup.Points'].values\n",
        "\n",
        "# Escalar y dividir\n",
        "scaler = StandardScaler()\n",
        "X_scaled = scaler.fit_transform(X)\n",
        "X_train, X_test, y_train, y_test = train_test_split(X_scaled, y, test_size=0.3, random_state=42)\n",
        "\n",
        "# Modelo\n",
        "model = tf.keras.Sequential([\n",
        "    tf.keras.layers.Dense(16, activation='relu', input_shape=(X_train.shape[1],)),\n",
        "    tf.keras.layers.Dense(8, activation='relu'),\n",
        "    tf.keras.layers.Dense(1)\n",
        "])\n",
        "\n",
        "model.compile(optimizer='adam', loss='mse', metrics=['mae'])\n",
        "model.fit(X_train, y_train, epochs=50, batch_size=16, validation_split=0.2)\n",
        "\n",
        "# Evaluación\n",
        "y_pred = model.predict(X_test).flatten()\n",
        "from sklearn.metrics import mean_squared_error\n",
        "print(f\"MSE: {mean_squared_error(y_test, y_pred):.2f}\")"
      ],
      "cell_type": "code",
      "metadata": {
        "colab": {
          "base_uri": "https://localhost:8080/"
        },
        "id": "Z_h7dnI7RRMv",
        "outputId": "ac4caddb-c4d5-433e-f748-a5f9f3fc33f8"
      },
      "execution_count": 44,
      "outputs": [
        {
          "output_type": "stream",
          "name": "stdout",
          "text": [
            "Index(['Unnamed: 0', 'Species', 'Owner', 'Country.of.Origin', 'Farm.Name',\n",
            "       'Lot.Number', 'Mill', 'ICO.Number', 'Company', 'Altitude', 'Region',\n",
            "       'Producer', 'Number.of.Bags', 'Bag.Weight', 'In.Country.Partner',\n",
            "       'Harvest.Year', 'Grading.Date', 'Owner.1', 'Variety',\n",
            "       'Processing.Method', 'Aroma', 'Flavor', 'Aftertaste', 'Acidity', 'Body',\n",
            "       'Balance', 'Uniformity', 'Clean.Cup', 'Sweetness', 'Cupper.Points',\n",
            "       'Total.Cup.Points', 'Moisture', 'Category.One.Defects', 'Quakers',\n",
            "       'Color', 'Category.Two.Defects', 'Expiration', 'Certification.Body',\n",
            "       'Certification.Address', 'Certification.Contact', 'unit_of_measurement',\n",
            "       'altitude_low_meters', 'altitude_high_meters', 'altitude_mean_meters'],\n",
            "      dtype='object')\n",
            "Epoch 1/50\n",
            "46/46 [==============================] - 1s 6ms/step - loss: 6700.3779 - mae: 81.7641 - val_loss: 6671.2720 - val_mae: 81.6425\n",
            "Epoch 2/50\n",
            "46/46 [==============================] - 0s 3ms/step - loss: 6609.6260 - mae: 81.2181 - val_loss: 6561.4404 - val_mae: 80.9629\n",
            "Epoch 3/50\n",
            "46/46 [==============================] - 0s 3ms/step - loss: 6452.5596 - mae: 80.2589 - val_loss: 6354.2012 - val_mae: 79.6669\n",
            "Epoch 4/50\n",
            "46/46 [==============================] - 0s 3ms/step - loss: 6182.1875 - mae: 78.5437 - val_loss: 6034.8301 - val_mae: 77.6257\n",
            "Epoch 5/50\n",
            "46/46 [==============================] - 0s 3ms/step - loss: 5776.0688 - mae: 75.8286 - val_loss: 5564.0156 - val_mae: 74.4840\n",
            "Epoch 6/50\n",
            "46/46 [==============================] - 0s 3ms/step - loss: 5238.5981 - mae: 72.0267 - val_loss: 4992.4443 - val_mae: 70.4148\n",
            "Epoch 7/50\n",
            "46/46 [==============================] - 0s 3ms/step - loss: 4610.3047 - mae: 67.0693 - val_loss: 4344.7729 - val_mae: 65.3251\n",
            "Epoch 8/50\n",
            "46/46 [==============================] - 0s 3ms/step - loss: 3953.1262 - mae: 61.1661 - val_loss: 3703.0232 - val_mae: 59.7219\n",
            "Epoch 9/50\n",
            "46/46 [==============================] - 0s 3ms/step - loss: 3358.4700 - mae: 55.1998 - val_loss: 3145.4812 - val_mae: 54.6196\n",
            "Epoch 10/50\n",
            "46/46 [==============================] - 0s 3ms/step - loss: 2888.2217 - mae: 50.0469 - val_loss: 2708.9065 - val_mae: 50.1361\n",
            "Epoch 11/50\n",
            "46/46 [==============================] - 0s 3ms/step - loss: 2551.9287 - mae: 46.1381 - val_loss: 2385.8560 - val_mae: 46.4525\n",
            "Epoch 12/50\n",
            "46/46 [==============================] - 0s 3ms/step - loss: 2308.7598 - mae: 42.7591 - val_loss: 2119.7266 - val_mae: 43.3682\n",
            "Epoch 13/50\n",
            "46/46 [==============================] - 0s 3ms/step - loss: 2122.4531 - mae: 39.8448 - val_loss: 1847.1212 - val_mae: 40.0991\n",
            "Epoch 14/50\n",
            "46/46 [==============================] - 0s 3ms/step - loss: 1923.3542 - mae: 37.5945 - val_loss: 1669.6554 - val_mae: 38.0016\n",
            "Epoch 15/50\n",
            "46/46 [==============================] - 0s 3ms/step - loss: 1758.0426 - mae: 34.9790 - val_loss: 1432.1831 - val_mae: 34.9860\n",
            "Epoch 16/50\n",
            "46/46 [==============================] - 0s 3ms/step - loss: 1568.7324 - mae: 32.5011 - val_loss: 1247.5408 - val_mae: 32.5648\n",
            "Epoch 17/50\n",
            "46/46 [==============================] - 0s 2ms/step - loss: 1393.9984 - mae: 29.8755 - val_loss: 1028.7562 - val_mae: 29.5143\n",
            "Epoch 18/50\n",
            "46/46 [==============================] - 0s 3ms/step - loss: 1208.2004 - mae: 27.0472 - val_loss: 832.8872 - val_mae: 26.4728\n",
            "Epoch 19/50\n",
            "46/46 [==============================] - 0s 2ms/step - loss: 1032.3492 - mae: 24.1735 - val_loss: 651.3159 - val_mae: 23.2425\n",
            "Epoch 20/50\n",
            "46/46 [==============================] - 0s 2ms/step - loss: 897.7893 - mae: 21.1017 - val_loss: 503.0085 - val_mae: 20.2266\n",
            "Epoch 21/50\n",
            "46/46 [==============================] - 0s 2ms/step - loss: 767.4199 - mae: 18.5398 - val_loss: 390.7404 - val_mae: 17.5731\n",
            "Epoch 22/50\n",
            "46/46 [==============================] - 0s 3ms/step - loss: 659.3661 - mae: 16.4073 - val_loss: 294.2682 - val_mae: 14.9760\n",
            "Epoch 23/50\n",
            "46/46 [==============================] - 0s 3ms/step - loss: 564.2635 - mae: 13.9896 - val_loss: 222.8542 - val_mae: 12.7998\n",
            "Epoch 24/50\n",
            "46/46 [==============================] - 0s 2ms/step - loss: 517.5265 - mae: 11.7668 - val_loss: 160.6444 - val_mae: 10.6654\n",
            "Epoch 25/50\n",
            "46/46 [==============================] - 0s 2ms/step - loss: 451.2382 - mae: 10.1861 - val_loss: 122.3221 - val_mae: 9.0992\n",
            "Epoch 26/50\n",
            "46/46 [==============================] - 0s 2ms/step - loss: 393.1895 - mae: 9.1979 - val_loss: 111.6505 - val_mae: 8.5856\n",
            "Epoch 27/50\n",
            "46/46 [==============================] - 0s 2ms/step - loss: 351.8683 - mae: 8.2378 - val_loss: 87.2994 - val_mae: 7.4907\n",
            "Epoch 28/50\n",
            "46/46 [==============================] - 0s 2ms/step - loss: 319.4242 - mae: 7.4587 - val_loss: 68.2874 - val_mae: 6.5768\n",
            "Epoch 29/50\n",
            "46/46 [==============================] - 0s 2ms/step - loss: 291.0618 - mae: 6.4103 - val_loss: 55.5578 - val_mae: 5.7938\n",
            "Epoch 30/50\n",
            "46/46 [==============================] - 0s 2ms/step - loss: 272.7753 - mae: 6.0765 - val_loss: 48.6212 - val_mae: 5.4000\n",
            "Epoch 31/50\n",
            "46/46 [==============================] - 0s 3ms/step - loss: 246.9350 - mae: 5.4985 - val_loss: 41.0724 - val_mae: 4.9496\n",
            "Epoch 32/50\n",
            "46/46 [==============================] - 0s 2ms/step - loss: 227.9347 - mae: 5.1869 - val_loss: 36.3461 - val_mae: 4.6429\n",
            "Epoch 33/50\n",
            "46/46 [==============================] - 0s 2ms/step - loss: 211.2874 - mae: 4.9227 - val_loss: 31.3525 - val_mae: 4.2743\n",
            "Epoch 34/50\n",
            "46/46 [==============================] - 0s 2ms/step - loss: 197.1032 - mae: 4.5546 - val_loss: 28.6946 - val_mae: 4.0200\n",
            "Epoch 35/50\n",
            "46/46 [==============================] - 0s 2ms/step - loss: 181.9649 - mae: 4.3126 - val_loss: 25.4303 - val_mae: 3.7895\n",
            "Epoch 36/50\n",
            "46/46 [==============================] - 0s 2ms/step - loss: 169.6383 - mae: 4.1902 - val_loss: 22.4116 - val_mae: 3.5539\n",
            "Epoch 37/50\n",
            "46/46 [==============================] - 0s 3ms/step - loss: 157.0832 - mae: 3.9260 - val_loss: 20.3231 - val_mae: 3.3525\n",
            "Epoch 38/50\n",
            "46/46 [==============================] - 0s 2ms/step - loss: 146.1122 - mae: 3.6740 - val_loss: 18.1760 - val_mae: 3.1546\n",
            "Epoch 39/50\n",
            "46/46 [==============================] - 0s 2ms/step - loss: 135.7639 - mae: 3.5529 - val_loss: 16.5065 - val_mae: 3.0142\n",
            "Epoch 40/50\n",
            "46/46 [==============================] - 0s 2ms/step - loss: 126.9355 - mae: 3.4306 - val_loss: 15.2705 - val_mae: 2.9087\n",
            "Epoch 41/50\n",
            "46/46 [==============================] - 0s 2ms/step - loss: 117.3830 - mae: 3.2540 - val_loss: 13.5884 - val_mae: 2.7427\n",
            "Epoch 42/50\n",
            "46/46 [==============================] - 0s 2ms/step - loss: 109.0269 - mae: 3.1009 - val_loss: 12.0862 - val_mae: 2.5851\n",
            "Epoch 43/50\n",
            "46/46 [==============================] - 0s 2ms/step - loss: 101.8765 - mae: 3.0153 - val_loss: 11.2983 - val_mae: 2.4552\n",
            "Epoch 44/50\n",
            "46/46 [==============================] - 0s 2ms/step - loss: 94.3856 - mae: 2.8601 - val_loss: 9.8575 - val_mae: 2.2947\n",
            "Epoch 45/50\n",
            "46/46 [==============================] - 0s 3ms/step - loss: 88.6209 - mae: 2.7197 - val_loss: 9.6339 - val_mae: 2.2306\n",
            "Epoch 46/50\n",
            "46/46 [==============================] - 0s 2ms/step - loss: 81.9889 - mae: 2.6410 - val_loss: 8.4293 - val_mae: 2.1071\n",
            "Epoch 47/50\n",
            "46/46 [==============================] - 0s 3ms/step - loss: 76.4746 - mae: 2.5236 - val_loss: 8.1953 - val_mae: 2.0579\n",
            "Epoch 48/50\n",
            "46/46 [==============================] - 0s 3ms/step - loss: 71.1373 - mae: 2.4487 - val_loss: 7.0961 - val_mae: 1.9210\n",
            "Epoch 49/50\n",
            "46/46 [==============================] - 0s 3ms/step - loss: 67.1303 - mae: 2.2999 - val_loss: 6.1628 - val_mae: 1.7682\n",
            "Epoch 50/50\n",
            "46/46 [==============================] - 0s 2ms/step - loss: 61.7165 - mae: 2.2598 - val_loss: 6.3822 - val_mae: 1.8291\n",
            "13/13 [==============================] - 0s 1ms/step\n",
            "MSE: 6.38\n"
          ]
        }
      ]
    },
    {
      "cell_type": "code",
      "source": [
        "# Evaluación\n",
        "y_pred = model.predict(X_test).flatten()\n",
        "from sklearn.metrics import mean_squared_error\n",
        "print(f\"MSE: {mean_squared_error(y_test, y_pred):.2f}\")"
      ],
      "metadata": {
        "colab": {
          "base_uri": "https://localhost:8080/"
        },
        "id": "iJNc3ciHRhmZ",
        "outputId": "d51a5a0e-bcd8-438a-ea47-03e074986a84"
      },
      "execution_count": 45,
      "outputs": [
        {
          "output_type": "stream",
          "name": "stdout",
          "text": [
            "13/13 [==============================] - 0s 1ms/step\n",
            "MSE: 6.38\n"
          ]
        }
      ]
    }
  ]
}